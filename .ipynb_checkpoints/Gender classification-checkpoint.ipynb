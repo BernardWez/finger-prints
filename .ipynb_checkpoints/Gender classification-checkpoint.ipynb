{
 "cells": [
  {
   "cell_type": "code",
   "execution_count": 10,
   "metadata": {},
   "outputs": [],
   "source": [
    "# Imports\n",
    "import os\n",
    "import cv2\n",
    "\n",
    "import matplotlib.pyplot as plt"
   ]
  },
  {
   "cell_type": "markdown",
   "metadata": {},
   "source": [
    "### Import real fingerprint images"
   ]
  },
  {
   "cell_type": "code",
   "execution_count": 11,
   "metadata": {},
   "outputs": [],
   "source": [
    "REAL = 'C:\\\\Users\\\\Meekmar\\\\Documents\\\\Github\\\\finger-prints\\\\SOCOFing\\\\Real'\n",
    "ALTERED_EASY = 'C:\\\\Users\\\\Meekmar\\\\Documents\\\\Github\\\\finger-prints\\\\SOCOFing\\\\Altered\\\\Altered-easy'\n",
    "ALTERED_MEDIUM = 'C:\\\\Users\\\\Meekmar\\\\Documents\\\\Github\\\\finger-prints\\\\SOCOFing\\\\Altered\\\\Altered-medium'\n",
    "ALTERED_HARD = 'C:\\\\Users\\\\Meekmar\\\\Documents\\\\Github\\\\finger-prints\\\\SOCOFing\\\\Altered\\\\Altered-hard'"
   ]
  },
  {
   "cell_type": "code",
   "execution_count": 12,
   "metadata": {},
   "outputs": [],
   "source": [
    "def getLabel(img_name):\n",
    "    '''Takes image name as string and returns the associated label'''\n",
    "    # Remove the extension from image filename\n",
    "    img_name = os.path.splitext(img_name)[0]\n",
    "        \n",
    "    # Create the image labels\n",
    "    label_list = img_name.split('_')\n",
    "    \n",
    "    # Subject id\n",
    "    subject_id = label_list[0]\n",
    "    \n",
    "    # Gender: code male as 1 and female as 0\n",
    "    gender = 1 if label_list[2] == 'M' else 0\n",
    "    \n",
    "    # Hand: code left hand as 1 and right hand as 0\n",
    "    hand = 1 if label_list[3] == 'Left' else 0\n",
    "    \n",
    "    # Finger: code fingers according to dictionary mapping below\n",
    "    fingers = {'index': 0, 'little': 1, 'middle': 2, 'ring':3, 'thumb': 4}\n",
    "    finger = fingers[label_list[4]] \n",
    "    \n",
    "    return subject_id, gender, hand, finger"
   ]
  },
  {
   "cell_type": "code",
   "execution_count": 13,
   "metadata": {},
   "outputs": [],
   "source": [
    "def imageImport(img_dir):\n",
    "    '''Imports images from given directory'''\n",
    "    i = 0\n",
    "    \n",
    "    data = []\n",
    "    labels = []\n",
    "    \n",
    "    for img in os.listdir(img_dir):\n",
    "        # Get the entire image path\n",
    "        img_path = os.path.join(img_dir, img)\n",
    "        \n",
    "        # Get the image labels\n",
    "        labels = getLabel(img)\n",
    "        \n",
    "        # Read the image from the image path\n",
    "        img_array = cv2.imread(img_path, 0)\n",
    "        \n",
    "        # Append image array and image label\n",
    "        data.append(img_array)\n",
    "        labels.append(label)\n",
    "        \n",
    "    return data, labels"
   ]
  },
  {
   "cell_type": "code",
   "execution_count": 8,
   "metadata": {},
   "outputs": [],
   "source": [
    "X_real, y_real = imageImport(REAL)"
   ]
  },
  {
   "cell_type": "code",
   "execution_count": 9,
   "metadata": {},
   "outputs": [
    {
     "data": {
      "text/plain": [
       "[('100', 1, 1, 0),\n",
       " ('100', 1, 1, 1),\n",
       " ('100', 1, 1, 2),\n",
       " ('100', 1, 1, 3),\n",
       " ('100', 1, 1, 4)]"
      ]
     },
     "execution_count": 9,
     "metadata": {},
     "output_type": "execute_result"
    }
   ],
   "source": [
    "y_real[0:5]"
   ]
  },
  {
   "cell_type": "code",
   "execution_count": 30,
   "metadata": {},
   "outputs": [],
   "source": [
    "label_path = os.path.join('C:\\\\Users\\\\Meekmar\\\\Documents\\\\Github\\\\finger-prints', 'SOCOFing\\Real')"
   ]
  },
  {
   "cell_type": "code",
   "execution_count": 31,
   "metadata": {},
   "outputs": [],
   "source": [
    "img = cv2.imread(os.path.join(label_path, os.listdir(label_path)[0]), 0)"
   ]
  },
  {
   "cell_type": "code",
   "execution_count": 33,
   "metadata": {},
   "outputs": [
    {
     "data": {
      "text/plain": [
       "'C:\\\\Users\\\\Meekmar\\\\Documents\\\\Github\\\\finger-prints\\\\SOCOFing\\\\Real\\\\100__M_Left_index_finger.BMP'"
      ]
     },
     "execution_count": 33,
     "metadata": {},
     "output_type": "execute_result"
    }
   ],
   "source": [
    "os.path.join(label_path, os.listdir(label_path)[0])"
   ]
  },
  {
   "cell_type": "code",
   "execution_count": 62,
   "metadata": {},
   "outputs": [
    {
     "data": {
      "text/plain": [
       "<matplotlib.image.AxesImage at 0x1a5b3951828>"
      ]
     },
     "execution_count": 62,
     "metadata": {},
     "output_type": "execute_result"
    },
    {
     "data": {
      "image/png": "[encoded data removed]",
      "text/plain": [
       "<Figure size 432x288 with 1 Axes>"
      ]
     },
     "metadata": {
      "needs_background": "light"
     },
     "output_type": "display_data"
    }
   ],
   "source": [
    "plt.imshow(data, cmap='gray_r')"
   ]
  },
  {
   "cell_type": "code",
   "execution_count": null,
   "metadata": {},
   "outputs": [],
   "source": [
    "def plot_images(X, y):\n",
    "    fig, axes = plt.subplots(1, len(X), figsize=(17, 5))\n",
    "    \n",
    "    for idx, ax in enumerate(axes):\n",
    "        ax.axis('off')\n",
    "        ax.imshow(X[idx][:,:,::-1])\n",
    "        ax.set_title(y[idx], size=15, pad=10)\n",
    "\n",
    "plot_images(X_train[5:10], y_train_flat[5:10])"
   ]
  }
 ],
 "metadata": {
  "kernelspec": {
   "display_name": "Python 3",
   "language": "python",
   "name": "python3"
  },
  "language_info": {
   "codemirror_mode": {
    "name": "ipython",
    "version": 3
   },
   "file_extension": ".py",
   "mimetype": "text/x-python",
   "name": "python",
   "nbconvert_exporter": "python",
   "pygments_lexer": "ipython3",
   "version": "3.7.3"
  }
 },
 "nbformat": 4,
 "nbformat_minor": 4
}
